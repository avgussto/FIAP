{
  "nbformat": 4,
  "nbformat_minor": 0,
  "metadata": {
    "colab": {
      "provenance": [],
      "collapsed_sections": [
        "iNgsGu5xGyy4",
        "nKClTwCTIL07"
      ]
    },
    "kernelspec": {
      "name": "python3",
      "display_name": "Python 3"
    },
    "language_info": {
      "name": "python"
    }
  },
  "cells": [
    {
      "cell_type": "markdown",
      "source": [
        "#Introdução Probabilidade\n"
      ],
      "metadata": {
        "id": "MMuOVQ8aGxp-"
      }
    },
    {
      "cell_type": "markdown",
      "source": [
        "## Bibliotecas"
      ],
      "metadata": {
        "id": "iNgsGu5xGyy4"
      }
    },
    {
      "cell_type": "code",
      "source": [
        "#bibliotecas gerais\n",
        "import numpy as np\n",
        "import pandas  as pd"
      ],
      "metadata": {
        "id": "mv-SXqRSG8jj"
      },
      "execution_count": null,
      "outputs": []
    },
    {
      "cell_type": "code",
      "source": [
        "#bibliotecas para analise combinatoria\n",
        "from itertools import product, permutations, combinations, combinations_with_replacement\n",
        "import math"
      ],
      "metadata": {
        "id": "_TLFnXQqHKmv"
      },
      "execution_count": null,
      "outputs": []
    },
    {
      "cell_type": "markdown",
      "source": [
        "- detalhes adicionais"
      ],
      "metadata": {
        "id": "SCT88FZYHfIR"
      }
    },
    {
      "cell_type": "code",
      "source": [
        "# pasta onde esta o python\n",
        "! which python3"
      ],
      "metadata": {
        "colab": {
          "base_uri": "https://localhost:8080/"
        },
        "id": "EK9gne2YHjGo",
        "outputId": "dbe7b503-cb15-4b65-87bb-2b1c830ce8b9"
      },
      "execution_count": null,
      "outputs": [
        {
          "output_type": "stream",
          "name": "stdout",
          "text": [
            "/usr/bin/python3\n"
          ]
        }
      ]
    },
    {
      "cell_type": "code",
      "source": [
        "#versao do python\n",
        "! /usr/bin/python3 --version\n"
      ],
      "metadata": {
        "colab": {
          "base_uri": "https://localhost:8080/"
        },
        "id": "lRhUJFcsHu6N",
        "outputId": "2ac5b38d-500f-484d-91df-759040ee7aa3"
      },
      "execution_count": null,
      "outputs": [
        {
          "output_type": "stream",
          "name": "stdout",
          "text": [
            "Python 3.9.16\n"
          ]
        }
      ]
    },
    {
      "cell_type": "code",
      "source": [
        "import sys\n",
        "sys.version"
      ],
      "metadata": {
        "colab": {
          "base_uri": "https://localhost:8080/",
          "height": 35
        },
        "id": "ropI9RKXIF0B",
        "outputId": "ab60792d-4b77-47c9-bcb4-5420fdfef705"
      },
      "execution_count": null,
      "outputs": [
        {
          "output_type": "execute_result",
          "data": {
            "text/plain": [
              "'3.9.16 (main, Dec  7 2022, 01:11:51) \\n[GCC 9.4.0]'"
            ],
            "application/vnd.google.colaboratory.intrinsic+json": {
              "type": "string"
            }
          },
          "metadata": {},
          "execution_count": 6
        }
      ]
    },
    {
      "cell_type": "markdown",
      "source": [
        "#Exemplos"
      ],
      "metadata": {
        "id": "nKClTwCTIL07"
      }
    },
    {
      "cell_type": "markdown",
      "source": [
        "- Permutação"
      ],
      "metadata": {
        "id": "9JM2Aj1yIOHq"
      }
    },
    {
      "cell_type": "code",
      "source": [
        "alunos = [\"guilherme\",\"alex\",\"cesar\"]"
      ],
      "metadata": {
        "id": "8hoRo5KhIWJ7"
      },
      "execution_count": null,
      "outputs": []
    },
    {
      "cell_type": "code",
      "source": [
        "permutacao = permutations(alunos, 3)\n",
        "permutacao"
      ],
      "metadata": {
        "colab": {
          "base_uri": "https://localhost:8080/"
        },
        "id": "A1fT1QsKIjrG",
        "outputId": "13f8ab54-48e1-48cf-ed4d-9674a5bb54ad"
      },
      "execution_count": null,
      "outputs": [
        {
          "output_type": "execute_result",
          "data": {
            "text/plain": [
              "<itertools.permutations at 0x7f47a645a360>"
            ]
          },
          "metadata": {},
          "execution_count": 25
        }
      ]
    },
    {
      "cell_type": "code",
      "source": [
        "#obter as permutacoes\n",
        "possiveis_permutacoes = list(permutacao)\n",
        "possiveis_permutacoes"
      ],
      "metadata": {
        "colab": {
          "base_uri": "https://localhost:8080/"
        },
        "id": "p8piR3z1I0lI",
        "outputId": "fb405fe6-b1d7-4ead-9380-e58843d86cb4"
      },
      "execution_count": null,
      "outputs": [
        {
          "output_type": "execute_result",
          "data": {
            "text/plain": [
              "[('guilherme', 'alex', 'cesar'),\n",
              " ('guilherme', 'cesar', 'alex'),\n",
              " ('alex', 'guilherme', 'cesar'),\n",
              " ('alex', 'cesar', 'guilherme'),\n",
              " ('cesar', 'guilherme', 'alex'),\n",
              " ('cesar', 'alex', 'guilherme')]"
            ]
          },
          "metadata": {},
          "execution_count": 26
        }
      ]
    },
    {
      "cell_type": "code",
      "source": [
        "#numero total de permutacoes\n",
        "len(list(possiveis_permutacoes))"
      ],
      "metadata": {
        "colab": {
          "base_uri": "https://localhost:8080/"
        },
        "id": "gKofdwhGI7pJ",
        "outputId": "3364c016-87ae-4e99-dbce-909494e3d137"
      },
      "execution_count": null,
      "outputs": [
        {
          "output_type": "execute_result",
          "data": {
            "text/plain": [
              "6"
            ]
          },
          "metadata": {},
          "execution_count": 27
        }
      ]
    },
    {
      "cell_type": "code",
      "source": [
        "#numero total de permutacoes\n",
        "def numero_permutacoes(n,k, repeticao = True):\n",
        "\n",
        "  if repeticao is True:\n",
        "    #com repeticao\n",
        "    return n**k\n",
        "  else:\n",
        "    #sem repeticao\n",
        "    return math.factorial(n) / math.factorial(n - k)"
      ],
      "metadata": {
        "id": "ENXinKLnKBzo"
      },
      "execution_count": null,
      "outputs": []
    },
    {
      "cell_type": "code",
      "source": [
        "#com repeticao\n",
        "numero_permutacoes(3,3)"
      ],
      "metadata": {
        "colab": {
          "base_uri": "https://localhost:8080/"
        },
        "id": "BkoM_1znLA2C",
        "outputId": "103ccfe8-d5d9-44f6-863c-091c0b157e79"
      },
      "execution_count": null,
      "outputs": [
        {
          "output_type": "execute_result",
          "data": {
            "text/plain": [
              "27"
            ]
          },
          "metadata": {},
          "execution_count": 30
        }
      ]
    },
    {
      "cell_type": "code",
      "source": [
        "#sem repeticao\n",
        "numero_permutacoes(3,3,repeticao = False)"
      ],
      "metadata": {
        "colab": {
          "base_uri": "https://localhost:8080/"
        },
        "id": "L8AXHGb_LRG3",
        "outputId": "65ddff34-c163-4e9a-aeae-8459f3d3f106"
      },
      "execution_count": null,
      "outputs": [
        {
          "output_type": "execute_result",
          "data": {
            "text/plain": [
              "6.0"
            ]
          },
          "metadata": {},
          "execution_count": 55
        }
      ]
    },
    {
      "cell_type": "code",
      "source": [
        "#usando a funcao perm (so mostra sem repeticoes)\n",
        "math.perm(3,3)"
      ],
      "metadata": {
        "colab": {
          "base_uri": "https://localhost:8080/"
        },
        "id": "-m7WmPUpLbE9",
        "outputId": "e1ef852a-a304-4b44-bf71-0c0091f319ca"
      },
      "execution_count": null,
      "outputs": [
        {
          "output_type": "execute_result",
          "data": {
            "text/plain": [
              "6"
            ]
          },
          "metadata": {},
          "execution_count": 33
        }
      ]
    },
    {
      "cell_type": "markdown",
      "source": [
        "- Ex das senhas"
      ],
      "metadata": {
        "id": "DZaE5n4uaaM0"
      }
    },
    {
      "cell_type": "code",
      "source": [
        "#exercicio das senhas do slide\n",
        "numero_permutacoes(10,6,repeticao = False)"
      ],
      "metadata": {
        "colab": {
          "base_uri": "https://localhost:8080/"
        },
        "id": "lB39FPtKZjZs",
        "outputId": "fb95a7c5-2973-422e-da5f-d1724c06d2d7"
      },
      "execution_count": null,
      "outputs": [
        {
          "output_type": "execute_result",
          "data": {
            "text/plain": [
              "151200.0"
            ]
          },
          "metadata": {},
          "execution_count": 51
        }
      ]
    },
    {
      "cell_type": "code",
      "source": [
        "#exercicio das senhas soq no perm(so mostra sem repeticao)\n",
        "math.perm(10,6)"
      ],
      "metadata": {
        "colab": {
          "base_uri": "https://localhost:8080/"
        },
        "id": "LHLSoBLyZrHd",
        "outputId": "422f02aa-197a-43e8-8e8a-ece19e837dd3"
      },
      "execution_count": null,
      "outputs": [
        {
          "output_type": "execute_result",
          "data": {
            "text/plain": [
              "151200"
            ]
          },
          "metadata": {},
          "execution_count": 52
        }
      ]
    },
    {
      "cell_type": "markdown",
      "source": [
        "- Problema megasena"
      ],
      "metadata": {
        "id": "5UvjNfykaTZ8"
      }
    },
    {
      "cell_type": "code",
      "source": [
        "#Problema megasena slide\n",
        "formula_combinacao(60,6,repeticao = False)"
      ],
      "metadata": {
        "colab": {
          "base_uri": "https://localhost:8080/"
        },
        "id": "xcNkFJIzZ2PG",
        "outputId": "4fa7ee15-ecd9-4f50-ec82-65a09c7debee"
      },
      "execution_count": null,
      "outputs": [
        {
          "output_type": "execute_result",
          "data": {
            "text/plain": [
              "50063860.0"
            ]
          },
          "metadata": {},
          "execution_count": 61
        }
      ]
    },
    {
      "cell_type": "code",
      "source": [
        "#chance de ganhar\n",
        "1 / formula_combinacao(60,6,repeticao=False)"
      ],
      "metadata": {
        "id": "JVKzU9_KaJzG"
      },
      "execution_count": null,
      "outputs": []
    },
    {
      "cell_type": "code",
      "source": [
        "#problema megasena slide usando o math.comb(ele so funciona sem repeticao)\n",
        "math.comb(60, 6)"
      ],
      "metadata": {
        "id": "LUIWCGdcagTY"
      },
      "execution_count": null,
      "outputs": []
    },
    {
      "cell_type": "code",
      "source": [
        "#chance de ganhar 2\n",
        "1 / math.comb(60, 6)"
      ],
      "metadata": {
        "colab": {
          "base_uri": "https://localhost:8080/"
        },
        "id": "FbnNyllaasmP",
        "outputId": "881eb103-c3bb-465d-979b-0474e5374d58"
      },
      "execution_count": null,
      "outputs": [
        {
          "output_type": "execute_result",
          "data": {
            "text/plain": [
              "1.997448858318156e-08"
            ]
          },
          "metadata": {},
          "execution_count": 59
        }
      ]
    },
    {
      "cell_type": "markdown",
      "source": [
        "- Combinações\n"
      ],
      "metadata": {
        "id": "Jthup1JFUcGv"
      }
    },
    {
      "cell_type": "code",
      "source": [
        "alunos_duplas = [\"guilherme\",\"alex\",\"cesar\", \"cleudon\"]\n"
      ],
      "metadata": {
        "id": "OEhXkHy5Ul_U"
      },
      "execution_count": null,
      "outputs": []
    },
    {
      "cell_type": "code",
      "source": [
        "#sem repeticao\n",
        "combinacao = combinations(alunos_duplas, 2)"
      ],
      "metadata": {
        "id": "DEd4KB8rU-AY"
      },
      "execution_count": null,
      "outputs": []
    },
    {
      "cell_type": "code",
      "source": [
        "#obter as combinacoes\n",
        "lista_combinacao_duplas = list(combinacao)\n",
        "lista_combinacao_duplas\n"
      ],
      "metadata": {
        "colab": {
          "base_uri": "https://localhost:8080/"
        },
        "id": "9b6FAPyPVHCe",
        "outputId": "d09ae33b-e785-47ca-dcb5-89b20168b28e"
      },
      "execution_count": null,
      "outputs": [
        {
          "output_type": "execute_result",
          "data": {
            "text/plain": [
              "[('guilherme', 'alex'),\n",
              " ('guilherme', 'cesar'),\n",
              " ('guilherme', 'cleudon'),\n",
              " ('alex', 'cesar'),\n",
              " ('alex', 'cleudon'),\n",
              " ('cesar', 'cleudon')]"
            ]
          },
          "metadata": {},
          "execution_count": 41
        }
      ]
    },
    {
      "cell_type": "code",
      "source": [
        "#quantas possibilidades\n",
        "len(lista_combinacao_duplas)"
      ],
      "metadata": {
        "colab": {
          "base_uri": "https://localhost:8080/"
        },
        "id": "QfDBZkTOVV1V",
        "outputId": "22c4fc7c-7588-4e97-b1ea-66ccb1702ba3"
      },
      "execution_count": null,
      "outputs": [
        {
          "output_type": "execute_result",
          "data": {
            "text/plain": [
              "6"
            ]
          },
          "metadata": {},
          "execution_count": 42
        }
      ]
    },
    {
      "cell_type": "code",
      "source": [
        "#formula combinacao\n",
        "def formula_combinacao(n,k,repeticao = True):\n",
        "\n",
        "  #com repeticao\n",
        "  if repeticao is True:\n",
        "\n",
        "    return math.factorial(n+k-1) / (math.factorial(k) * math.factorial(n-1))\n",
        "\n",
        "  #sem repeticao\n",
        "  else:\n",
        "\n",
        "    return math.factorial(n) / (math.factorial(k) * math.factorial(n - k))"
      ],
      "metadata": {
        "id": "051oyhemVwi_"
      },
      "execution_count": null,
      "outputs": []
    },
    {
      "cell_type": "code",
      "source": [
        "#com repeticao\n",
        "formula_combinacao(4,2)"
      ],
      "metadata": {
        "colab": {
          "base_uri": "https://localhost:8080/"
        },
        "id": "mau311nbX7mh",
        "outputId": "d455787f-0fb8-47fb-83ab-618c2dfcff1e"
      },
      "execution_count": null,
      "outputs": [
        {
          "output_type": "execute_result",
          "data": {
            "text/plain": [
              "10.0"
            ]
          },
          "metadata": {},
          "execution_count": 48
        }
      ]
    },
    {
      "cell_type": "code",
      "source": [
        "#sem repeticao\n",
        "formula_combinacao(4,2,repeticao = False)"
      ],
      "metadata": {
        "colab": {
          "base_uri": "https://localhost:8080/"
        },
        "id": "XKfs0dTJYKdm",
        "outputId": "f7323b75-c261-40a6-8712-8242df0247a0"
      },
      "execution_count": null,
      "outputs": [
        {
          "output_type": "execute_result",
          "data": {
            "text/plain": [
              "6.0"
            ]
          },
          "metadata": {},
          "execution_count": 49
        }
      ]
    },
    {
      "cell_type": "code",
      "source": [
        "#usando o math comb(ele so faz sem repeticao)\n",
        "math.comb(4,2)"
      ],
      "metadata": {
        "colab": {
          "base_uri": "https://localhost:8080/"
        },
        "id": "hUdSDR3qYSOW",
        "outputId": "b63a7da4-a150-4916-d628-874dec512c6e"
      },
      "execution_count": null,
      "outputs": [
        {
          "output_type": "execute_result",
          "data": {
            "text/plain": [
              "6"
            ]
          },
          "metadata": {},
          "execution_count": 50
        }
      ]
    },
    {
      "cell_type": "markdown",
      "source": [],
      "metadata": {
        "id": "MxQcKsJxa6YQ"
      }
    }
  ]
}
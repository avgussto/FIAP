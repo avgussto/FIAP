{
  "cells": [
    {
      "cell_type": "markdown",
      "metadata": {
        "id": "tgZzzz6MEXSN"
      },
      "source": [
        "#Exemplo Aula 1"
      ]
    },
    {
      "cell_type": "markdown",
      "metadata": {
        "id": "ZKELCejPHvuc"
      },
      "source": [
        "#Bibliotecas\n"
      ]
    },
    {
      "cell_type": "code",
      "execution_count": null,
      "metadata": {
        "id": "FbQs3xjlE2yp"
      },
      "outputs": [],
      "source": [
        "import numpy as np\n",
        "import pandas as pd\n",
        "import matplotlib.pyplot as plt\n",
        "import random as rnd"
      ]
    },
    {
      "cell_type": "markdown",
      "metadata": {
        "id": "M-A4LTkjH3p8"
      },
      "source": [
        "#Variável, Listas e Dataframes\n",
        "- Varável"
      ]
    },
    {
      "cell_type": "code",
      "execution_count": null,
      "metadata": {
        "id": "ZcrCL89kIBEk"
      },
      "outputs": [],
      "source": [
        "a = 'sergio'\n",
        "a"
      ]
    },
    {
      "cell_type": "code",
      "execution_count": null,
      "metadata": {
        "id": "glDuhVETIdJs"
      },
      "outputs": [],
      "source": [
        "b = 3\n",
        "b"
      ]
    },
    {
      "cell_type": "code",
      "execution_count": null,
      "metadata": {
        "id": "igJji6WDIh6i"
      },
      "outputs": [],
      "source": [
        "c = True\n",
        "c"
      ]
    },
    {
      "cell_type": "markdown",
      "metadata": {
        "id": "szU0ksrmIsIx"
      },
      "source": [
        "- Como criar listas"
      ]
    },
    {
      "cell_type": "code",
      "execution_count": null,
      "metadata": {
        "id": "3D0weeh3Ixf5"
      },
      "outputs": [],
      "source": [
        "lista1 = [1, 'a', 7, False]\n",
        "lista1"
      ]
    },
    {
      "cell_type": "markdown",
      "metadata": {
        "id": "cTEnT4_7JCaJ"
      },
      "source": [
        "-Dicionário"
      ]
    },
    {
      "cell_type": "code",
      "execution_count": null,
      "metadata": {
        "id": "Q5crXgQaJZnR"
      },
      "outputs": [],
      "source": [
        "dicionario = {'lista1': lista1,\n",
        "              'lista2': [30, 'hamburguer', 9, False]}"
      ]
    },
    {
      "cell_type": "code",
      "execution_count": null,
      "metadata": {
        "id": "KEuXMtrEKwVl"
      },
      "outputs": [],
      "source": [
        "dicionario"
      ]
    },
    {
      "cell_type": "markdown",
      "metadata": {
        "id": "WqyxFGmIJuVo"
      },
      "source": [
        "# Data Frame"
      ]
    },
    {
      "cell_type": "code",
      "execution_count": null,
      "metadata": {
        "colab": {
          "background_save": true,
          "base_uri": "https://localhost:8080/"
        },
        "id": "-Nd4eIJ6L4Lq",
        "outputId": "0f00d034-9abf-4a1e-c800-558eb6454f2f"
      },
      "outputs": [
        {
          "name": "stdout",
          "output_type": "stream",
          "text": [
            "                nome  salario\n",
            "0             sergio     1600\n",
            "1              alice     1650\n",
            "2  cristiano ronaldo      900 2\n"
          ]
        }
      ],
      "source": [
        "dados_salarios = pd.DataFrame({'nome': ['sergio', 'alice', 'cristiano ronaldo'],\n",
        " 'salario': [1600, 1650, 900]})\n",
        "\n",
        "dados_salarios\n",
        "\n",
        "print(dados_salarios, 1+1)"
      ]
    },
    {
      "cell_type": "markdown",
      "source": [
        "#Aula 3/10\n",
        "- Funcoes, logaritimos, exponenciais e vetores\n",
        ""
      ],
      "metadata": {
        "id": "5O_qs0lU0iCT"
      }
    },
    {
      "cell_type": "code",
      "source": [
        "def funcao_potencia(n1, potencia):\n",
        "\n",
        "  return n1**potencia"
      ],
      "metadata": {
        "id": "eCsa8-c61tF5"
      },
      "execution_count": null,
      "outputs": []
    },
    {
      "cell_type": "code",
      "source": [
        "funcao_potencia(4, 4)"
      ],
      "metadata": {
        "id": "dRvvpQFE128A"
      },
      "execution_count": null,
      "outputs": []
    },
    {
      "cell_type": "code",
      "source": [
        "np.log (5)"
      ],
      "metadata": {
        "id": "GLFkzEVK18BI"
      },
      "execution_count": null,
      "outputs": []
    },
    {
      "cell_type": "code",
      "source": [
        "np.exp(7)"
      ],
      "metadata": {
        "id": "tU47RyM14Ayq"
      },
      "execution_count": null,
      "outputs": []
    },
    {
      "cell_type": "code",
      "source": [
        "def funcao_teste(nsoma1, nsoma2, ndiv, nmult, nteste):\n",
        "\n",
        "  funcao = (nteste + (nsoma1 + nsoma2)) / ndiv * nmult\n",
        "\n",
        "  return funcao\n",
        "\n"
      ],
      "metadata": {
        "id": "vpuq9sCp42hh"
      },
      "execution_count": null,
      "outputs": []
    },
    {
      "cell_type": "code",
      "source": [
        "funcao_teste(1,2,3,4,5)"
      ],
      "metadata": {
        "id": "BduDrP3L5i3K"
      },
      "execution_count": null,
      "outputs": []
    },
    {
      "cell_type": "markdown",
      "source": [
        "#Listas"
      ],
      "metadata": {
        "id": "Whgbocu5GNAC"
      }
    },
    {
      "cell_type": "code",
      "source": [
        "vetor = list(range(2, 8))\n",
        "vetor"
      ],
      "metadata": {
        "colab": {
          "base_uri": "https://localhost:8080/"
        },
        "id": "Kw15avsAFq79",
        "outputId": "d2eaee7c-f3b6-4e9e-e6cf-05fb52985994"
      },
      "execution_count": null,
      "outputs": [
        {
          "output_type": "execute_result",
          "data": {
            "text/plain": [
              "[2, 3, 4, 5, 6, 7]"
            ]
          },
          "metadata": {},
          "execution_count": 48
        }
      ]
    },
    {
      "cell_type": "code",
      "source": [
        "vetor1 = list(range(4, 10))\n",
        "vetor1"
      ],
      "metadata": {
        "colab": {
          "base_uri": "https://localhost:8080/"
        },
        "id": "pHuev-wfF8d9",
        "outputId": "70c33ed3-d385-49b0-d34e-77159be0be14"
      },
      "execution_count": null,
      "outputs": [
        {
          "output_type": "execute_result",
          "data": {
            "text/plain": [
              "[4, 5, 6, 7, 8, 9]"
            ]
          },
          "metadata": {},
          "execution_count": 90
        }
      ]
    },
    {
      "cell_type": "code",
      "source": [
        "list(range(1, 20, 2))"
      ],
      "metadata": {
        "colab": {
          "base_uri": "https://localhost:8080/"
        },
        "id": "fkj6meneGI6E",
        "outputId": "ef1ada7a-e9de-480d-fdf0-6504e7661b38"
      },
      "execution_count": null,
      "outputs": [
        {
          "output_type": "execute_result",
          "data": {
            "text/plain": [
              "[1, 3, 5, 7, 9, 11, 13, 15, 17, 19]"
            ]
          },
          "metadata": {},
          "execution_count": 58
        }
      ]
    },
    {
      "cell_type": "code",
      "source": [
        "list(range(3, 20, 5))"
      ],
      "metadata": {
        "colab": {
          "base_uri": "https://localhost:8080/"
        },
        "id": "TlYz9cGMG6qE",
        "outputId": "fcea149e-e522-4f17-84ba-ebbc1d1dec1d"
      },
      "execution_count": null,
      "outputs": [
        {
          "output_type": "execute_result",
          "data": {
            "text/plain": [
              "[3, 8, 13, 18]"
            ]
          },
          "metadata": {},
          "execution_count": 59
        }
      ]
    },
    {
      "cell_type": "code",
      "source": [
        "list(range(2, 20, 2))"
      ],
      "metadata": {
        "colab": {
          "base_uri": "https://localhost:8080/"
        },
        "id": "7krRoETCHAwz",
        "outputId": "bdaa98ac-8e37-4f87-bef8-f8f9c4bba687"
      },
      "execution_count": null,
      "outputs": [
        {
          "output_type": "execute_result",
          "data": {
            "text/plain": [
              "[2, 4, 6, 8, 10, 12, 14, 16, 18]"
            ]
          },
          "metadata": {},
          "execution_count": 60
        }
      ]
    },
    {
      "cell_type": "code",
      "source": [
        "#lista customizada\n",
        "\n",
        "lista2 = [1,2,10,100]\n",
        "lista2"
      ],
      "metadata": {
        "colab": {
          "base_uri": "https://localhost:8080/"
        },
        "id": "toKGMiN4HDc8",
        "outputId": "b8aacbba-a74e-4bf5-8624-ee3f95393a64"
      },
      "execution_count": null,
      "outputs": [
        {
          "output_type": "execute_result",
          "data": {
            "text/plain": [
              "[1, 2, 10, 100]"
            ]
          },
          "metadata": {},
          "execution_count": 63
        }
      ]
    },
    {
      "cell_type": "markdown",
      "source": [
        "#Listas\n",
        "- valores aleatórios, loops, sequencia, impressoes sequenciais etc"
      ],
      "metadata": {
        "id": "-LLsnmk7HVYq"
      }
    },
    {
      "cell_type": "code",
      "source": [
        "for i in range(7):\n",
        "  print(i)"
      ],
      "metadata": {
        "colab": {
          "base_uri": "https://localhost:8080/"
        },
        "id": "gso_wC7zHaaz",
        "outputId": "94475f6b-b3bc-44cb-f320-ab69ab40a0bd"
      },
      "execution_count": null,
      "outputs": [
        {
          "output_type": "stream",
          "name": "stdout",
          "text": [
            "0\n",
            "1\n",
            "2\n",
            "3\n",
            "4\n",
            "5\n",
            "6\n"
          ]
        }
      ]
    },
    {
      "cell_type": "code",
      "source": [
        "for nome in ['di','ma']:\n",
        "  print(nome)"
      ],
      "metadata": {
        "colab": {
          "base_uri": "https://localhost:8080/"
        },
        "id": "VNPaBXSbIfrR",
        "outputId": "fe224bae-14ca-4a94-d152-6d413a8f4438"
      },
      "execution_count": null,
      "outputs": [
        {
          "output_type": "stream",
          "name": "stdout",
          "text": [
            "di\n",
            "ma\n"
          ]
        }
      ]
    },
    {
      "cell_type": "code",
      "source": [
        "#loop para criar uma sequencia de numeros aleatorios\n",
        "#round serve para limitar o numero de casas\n",
        "for i in range(5):\n",
        "\n",
        "  print(round(rnd.uniform(0, 1), 2))"
      ],
      "metadata": {
        "id": "txBTv9HxI5GT",
        "colab": {
          "base_uri": "https://localhost:8080/"
        },
        "outputId": "66e6854d-9dd7-49d4-c34a-acf6e9481289"
      },
      "execution_count": null,
      "outputs": [
        {
          "output_type": "stream",
          "name": "stdout",
          "text": [
            "0.5\n",
            "0.24\n",
            "0.65\n",
            "0.8\n",
            "0.02\n"
          ]
        }
      ]
    },
    {
      "cell_type": "code",
      "source": [
        "#loop para criar listas de numeros aleatorios\n",
        "\n",
        "[round(rnd.uniform(0, 10), 1 ) for i in range(10)]"
      ],
      "metadata": {
        "colab": {
          "base_uri": "https://localhost:8080/"
        },
        "id": "l3tmnnUzKNx1",
        "outputId": "a905d31c-f1ed-4a03-82ad-7993948d72b3"
      },
      "execution_count": null,
      "outputs": [
        {
          "output_type": "execute_result",
          "data": {
            "text/plain": [
              "[2.8, 3.5, 3.8, 3.7, 1.4, 6.5, 6.5, 5.6, 8.0, 3.6]"
            ]
          },
          "metadata": {},
          "execution_count": 76
        }
      ]
    },
    {
      "cell_type": "code",
      "source": [
        "#atribuindo a uma variável\n",
        "\n",
        "vetor_random = [round(rnd.uniform(0, 10), 1 ) for i in range(10)]\n",
        "\n",
        "vetor_random"
      ],
      "metadata": {
        "id": "7NHdxVHmK7em"
      },
      "execution_count": null,
      "outputs": []
    },
    {
      "cell_type": "code",
      "source": [
        "#loop para criar listas de numeros aleatorios inteiros\n",
        "vetor_random_inteiros = rnd.sample(range(50, 400), 2)\n",
        "\n",
        "vetor_random_inteiros"
      ],
      "metadata": {
        "colab": {
          "base_uri": "https://localhost:8080/"
        },
        "id": "sddX7nM8LDtk",
        "outputId": "ca6c477b-092a-4386-9e9c-11c1f5f909fd"
      },
      "execution_count": null,
      "outputs": [
        {
          "output_type": "execute_result",
          "data": {
            "text/plain": [
              "[58, 97]"
            ]
          },
          "metadata": {},
          "execution_count": 87
        }
      ]
    },
    {
      "cell_type": "code",
      "source": [
        "#somar listas numpy\n",
        "np.array(vetor) + np.array(vetor1)"
      ],
      "metadata": {
        "colab": {
          "base_uri": "https://localhost:8080/"
        },
        "id": "vF8tYjlHL7OK",
        "outputId": "10c9e9c9-b59f-46fb-e075-09dda6620098"
      },
      "execution_count": null,
      "outputs": [
        {
          "output_type": "execute_result",
          "data": {
            "text/plain": [
              "array([ 6,  8, 10, 12, 14, 16])"
            ]
          },
          "metadata": {},
          "execution_count": 105
        }
      ]
    },
    {
      "cell_type": "code",
      "source": [
        "#multiplicar listas numpy\n",
        "np.array(vetor) * np.array(vetor1)"
      ],
      "metadata": {
        "colab": {
          "base_uri": "https://localhost:8080/"
        },
        "id": "JB74_qjhMfAF",
        "outputId": "9900a3c4-3687-497c-c156-808b4b167f8c"
      },
      "execution_count": null,
      "outputs": [
        {
          "output_type": "execute_result",
          "data": {
            "text/plain": [
              "array([ 8, 15, 24, 35, 48, 63])"
            ]
          },
          "metadata": {},
          "execution_count": 95
        }
      ]
    },
    {
      "cell_type": "code",
      "source": [
        "#atribuindo as arrays como variaveis para simplificação\n",
        "\n",
        "vt_np = np.array(vetor)\n",
        "vt1_np = np.array(vetor1)\n",
        "\n",
        "vt_np + vt1_np"
      ],
      "metadata": {
        "colab": {
          "base_uri": "https://localhost:8080/"
        },
        "id": "tZP_rhhpN9v5",
        "outputId": "b7912f47-1c08-445a-e754-2c1542866a29"
      },
      "execution_count": null,
      "outputs": [
        {
          "output_type": "execute_result",
          "data": {
            "text/plain": [
              "array([ 6,  8, 10, 12, 14, 16])"
            ]
          },
          "metadata": {},
          "execution_count": 104
        }
      ]
    },
    {
      "cell_type": "code",
      "source": [
        "#criar matrizes\n",
        "matriz1 = np.array([[1,3], [2,4]])\n",
        "\n",
        "matriz1\n",
        "\n",
        "matriz2 = np.array ([[5,6] , [7,8]])\n"
      ],
      "metadata": {
        "id": "Ad6hbS1YMoOz"
      },
      "execution_count": null,
      "outputs": []
    },
    {
      "cell_type": "code",
      "source": [
        "matriz2 + matriz1"
      ],
      "metadata": {
        "colab": {
          "base_uri": "https://localhost:8080/"
        },
        "id": "U9-VZG2_R-HF",
        "outputId": "27851c1e-2c29-4a53-aad3-f5eae412d40c"
      },
      "execution_count": null,
      "outputs": [
        {
          "output_type": "execute_result",
          "data": {
            "text/plain": [
              "array([[ 6,  9],\n",
              "       [ 9, 12]])"
            ]
          },
          "metadata": {},
          "execution_count": 119
        }
      ]
    },
    {
      "cell_type": "code",
      "source": [
        "#criar matrizes com numeros aleatorios\n",
        "matrizrandom = np.random.rand(2,2)\n",
        "\n",
        "matrizrandom"
      ],
      "metadata": {
        "colab": {
          "base_uri": "https://localhost:8080/"
        },
        "id": "4wZSR3dENWQM",
        "outputId": "11685612-5264-4f0d-afe1-dc37316ccc9d"
      },
      "execution_count": null,
      "outputs": [
        {
          "output_type": "execute_result",
          "data": {
            "text/plain": [
              "array([[0.42605977, 0.47359195],\n",
              "       [0.32174576, 0.816346  ]])"
            ]
          },
          "metadata": {},
          "execution_count": 112
        }
      ]
    },
    {
      "cell_type": "code",
      "source": [
        "#operações numéricas de matrizes\n",
        "matriz2 - matriz1"
      ],
      "metadata": {
        "colab": {
          "base_uri": "https://localhost:8080/"
        },
        "id": "HmzDMTZtOimp",
        "outputId": "3a88e248-09d6-49bb-d80f-6a5e7fbaf960"
      },
      "execution_count": null,
      "outputs": [
        {
          "output_type": "execute_result",
          "data": {
            "text/plain": [
              "array([[4, 3],\n",
              "       [5, 4]])"
            ]
          },
          "metadata": {},
          "execution_count": 121
        }
      ]
    },
    {
      "cell_type": "code",
      "source": [
        "#multiplicação de elementos de matrizes\n",
        "\n",
        "matriz1 * matriz2"
      ],
      "metadata": {
        "colab": {
          "base_uri": "https://localhost:8080/"
        },
        "id": "_E0b-8LISSOm",
        "outputId": "21fb9360-bc9c-472c-9c57-46024d24540a"
      },
      "execution_count": null,
      "outputs": [
        {
          "output_type": "execute_result",
          "data": {
            "text/plain": [
              "array([[ 5, 18],\n",
              "       [14, 32]])"
            ]
          },
          "metadata": {},
          "execution_count": 122
        }
      ]
    },
    {
      "cell_type": "code",
      "source": [
        "#multiplicação de matrizes\n",
        "matriz1.dot(matriz2)"
      ],
      "metadata": {
        "colab": {
          "base_uri": "https://localhost:8080/"
        },
        "id": "TXOoEStjSiAF",
        "outputId": "41df3fb4-0eb6-40e2-b3f8-998ba8a182eb"
      },
      "execution_count": null,
      "outputs": [
        {
          "output_type": "execute_result",
          "data": {
            "text/plain": [
              "array([[26, 30],\n",
              "       [38, 44]])"
            ]
          },
          "metadata": {},
          "execution_count": 123
        }
      ]
    },
    {
      "cell_type": "markdown",
      "source": [
        "#Exercícios"
      ],
      "metadata": {
        "id": "rGg_-wiQQ-Mp"
      }
    },
    {
      "cell_type": "code",
      "source": [
        "#ex1\n",
        "def ex1(x):\n",
        "    res = (x - min(x)) / (max(x) - min(x))\n",
        "\n",
        "    return res"
      ],
      "metadata": {
        "id": "N63gFv3uO1q8"
      },
      "execution_count": null,
      "outputs": []
    },
    {
      "cell_type": "code",
      "source": [
        "#Exercício 2\n",
        "\n",
        "vetorA = np.array(list(range(1, 21)))\n",
        "vetorA"
      ],
      "metadata": {
        "id": "FCpsZf1GQbFh"
      },
      "execution_count": null,
      "outputs": []
    },
    {
      "cell_type": "code",
      "source": [
        "vetorB = np.array(rnd.sample(range(1, 21), 20))\n",
        "vetorB"
      ],
      "metadata": {
        "id": "lTTePt-wRQa-"
      },
      "execution_count": null,
      "outputs": []
    },
    {
      "cell_type": "code",
      "source": [
        "#ex3 normalizando vetor - colocando ele na funcao como se fosse o x\n",
        "vetorA_norm = ex1(vetorA)\n",
        "vetorB_norm = ex1(vetorB)\n"
      ],
      "metadata": {
        "id": "5R0HiH9Z1rjM"
      },
      "execution_count": null,
      "outputs": []
    },
    {
      "cell_type": "code",
      "source": [
        "#deixando a matriz vertical\n",
        "matrizAB = np.transpose([vetorA, vetorB])\n",
        "matrizAB\n"
      ],
      "metadata": {
        "id": "X03fabfmGI-x"
      },
      "execution_count": null,
      "outputs": []
    },
    {
      "cell_type": "code",
      "source": [
        "#criando matriz e deixando vertical com os vetores normalizados\n",
        "matrizAB_norm = np.transpose([vetorA_norm, vetorB_norm])\n",
        "\n",
        "#Mmultiplicação de matrizes deixando 20,20\n",
        "matrizdot = matrizAB.dot(matrizAB_norm.T)\n",
        "matrizdot"
      ],
      "metadata": {
        "id": "DI8rpBuJ3fVX"
      },
      "execution_count": null,
      "outputs": []
    },
    {
      "cell_type": "code",
      "source": [
        "matrizAB_norm"
      ],
      "metadata": {
        "id": "uWgXWNOP6JU_"
      },
      "execution_count": null,
      "outputs": []
    },
    {
      "cell_type": "code",
      "source": [
        "#multiplicação dos elementos da matrizes\n",
        "matrizAB * matrizAB_norm"
      ],
      "metadata": {
        "id": "jtJFLBUB4y2G"
      },
      "execution_count": null,
      "outputs": []
    },
    {
      "cell_type": "code",
      "source": [
        "#multiplicação de matrizes so mostrando o tamanho da matriz\n",
        "matrizAB.dot(np.transpose(matrizAB_norm)).shape"
      ],
      "metadata": {
        "colab": {
          "base_uri": "https://localhost:8080/"
        },
        "id": "L0R_kYNh5cCT",
        "outputId": "f36b29fd-051e-4d27-b219-ddaafa51dd3b"
      },
      "execution_count": null,
      "outputs": [
        {
          "output_type": "execute_result",
          "data": {
            "text/plain": [
              "(20, 20)"
            ]
          },
          "metadata": {},
          "execution_count": 24
        }
      ]
    },
    {
      "cell_type": "code",
      "source": [
        "#multiplicação de matrizes deixando 2,2\n",
        "np.transpose(matrizAB).dot(matrizAB_norm)"
      ],
      "metadata": {
        "colab": {
          "base_uri": "https://localhost:8080/"
        },
        "id": "MsHfSN7y5t1a",
        "outputId": "926887bc-841d-4cdc-9968-f0d10152f4c4"
      },
      "execution_count": null,
      "outputs": [
        {
          "output_type": "execute_result",
          "data": {
            "text/plain": [
              "array([[140., 100.],\n",
              "       [100., 140.]])"
            ]
          },
          "metadata": {},
          "execution_count": 31
        }
      ]
    }
  ],
  "metadata": {
    "colab": {
      "toc_visible": true,
      "provenance": [],
      "collapsed_sections": [
        "M-A4LTkjH3p8",
        "WqyxFGmIJuVo",
        "Whgbocu5GNAC"
      ]
    },
    "kernelspec": {
      "display_name": "Python 3",
      "name": "python3"
    },
    "language_info": {
      "name": "python"
    }
  },
  "nbformat": 4,
  "nbformat_minor": 0
}
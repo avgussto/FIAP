{
  "nbformat": 4,
  "nbformat_minor": 0,
  "metadata": {
    "colab": {
      "provenance": []
    },
    "kernelspec": {
      "name": "python3",
      "display_name": "Python 3"
    },
    "language_info": {
      "name": "python"
    }
  },
  "cells": [
    {
      "cell_type": "code",
      "execution_count": null,
      "metadata": {
        "colab": {
          "base_uri": "https://localhost:8080/"
        },
        "id": "bNGJkpwkNlGM",
        "outputId": "6772637e-d5d0-4f94-8697-d08758b25021"
      },
      "outputs": [
        {
          "output_type": "stream",
          "name": "stdout",
          "text": [
            "Digite a quantidade de registros que deseja inserir: 2\n",
            "\n",
            "Digite (1) se você é uma empresa e (2) se você é uma pessoa física: 1\n",
            "Digite o nome da empresa: Google\n",
            "Digite o CNPJ (não coloque os pontos, traços e barras): 11222333000144\n",
            "Digite um email de contato: google@gmail.com\n",
            "Digite a quantia: 10000\n",
            "\n",
            "Digite (1) se você é uma empresa e (2) se você é uma pessoa física: 2\n",
            "Digite o nome da pessoa: João\n",
            "Digite o CPF (não coloque os pontos e traços): 12332100102\n",
            "Digite um email de contato: joao@gmail.com\n",
            "Digite a quantia: 100\n",
            "\n",
            "Tabela de Cadastro:\n",
            "Nome                 CPF/CNPJ        Email                Doação    \n",
            "-----------------------------------------------------------------\n",
            "Google               11222333000144  google@gmail.com     R$10000.00  \n",
            "João                 12332100102     joao@gmail.com       R$100.00    \n"
          ]
        }
      ],
      "source": [
        "tipos = [1, 2]\n",
        "tabela_cadastro = []\n",
        "def solicitar_dados():\n",
        "    tipo = int(input('\\nDigite (1) se você é uma empresa e (2) se você é uma pessoa física: '))\n",
        "\n",
        "    while tipo not in tipos:\n",
        "        tipo = int(input('Valor inválido, digite 1 para empresa e 2 para pessoa física: '))\n",
        "\n",
        "    if tipo == 1:\n",
        "        nome = str(input(\"Digite o nome da empresa: \")).capitalize()\n",
        "        cnpj = int(input(\"Digite o CNPJ (não coloque os pontos, traços e barras): \"))\n",
        "        email = str(input(\"Digite um email de contato: \"))\n",
        "        doacao = float(input('Digite a quantia: '))\n",
        "\n",
        "        dados = {\n",
        "            'Nome': nome,\n",
        "            'CNPJ': cnpj,\n",
        "            'Email': email,\n",
        "            'Doação': doacao\n",
        "        }\n",
        "\n",
        "    elif tipo == 2:\n",
        "        nome = str(input(\"Digite o nome da pessoa: \")).lower().capitalize()\n",
        "        cpf = int(input(\"Digite o CPF (não coloque os pontos e traços): \"))\n",
        "        email = str(input(\"Digite um email de contato: \"))\n",
        "        doacao = float(input('Digite a quantia: '))\n",
        "\n",
        "        dados = {\n",
        "            'Nome': nome,\n",
        "            'CPF': cpf,\n",
        "            'Email': email,\n",
        "            'Doação': doacao\n",
        "        }\n",
        "\n",
        "    tabela_cadastro.append(dados)\n",
        "\n",
        "\n",
        "for i in range(int(input(\"Digite a quantidade de registros que deseja inserir: \"))):\n",
        "    solicitar_dados()\n",
        "\n",
        "print(\"\\nTabela de Cadastro:\")\n",
        "print(\"{:<20} {:<15} {:<20} {:<10}\".format(\"Nome\", \"CPF/CNPJ\", \"Email\", \"Doação\"))\n",
        "print(\"-\" * 65)\n",
        "\n",
        "for dados in tabela_cadastro:\n",
        "    if 'CNPJ' in dados:\n",
        "        print(\"{:<20} {:<15} {:<20} R${:<10.2f}\".format(dados[\"Nome\"], dados[\"CNPJ\"], dados[\"Email\"], dados['Doação']))\n",
        "    else:\n",
        "        print(\"{:<20} {:<15} {:<20} R${:<10.2f}\".format(dados[\"Nome\"], dados[\"CPF\"], dados[\"Email\"], dados['Doação']))"
      ]
    }
  ]
}
{
  "nbformat": 4,
  "nbformat_minor": 0,
  "metadata": {
    "colab": {
      "provenance": []
    },
    "kernelspec": {
      "name": "python3",
      "display_name": "Python 3"
    },
    "language_info": {
      "name": "python"
    }
  },
  "cells": [
    {
      "cell_type": "code",
      "execution_count": null,
      "metadata": {
        "id": "JZRp5JBe8zRC"
      },
      "outputs": [],
      "source": [
        "import numpy as np\n",
        "import pandas as pd\n",
        "import matplotlib.pyplot as plt\n",
        "import random as rnd"
      ]
    },
    {
      "cell_type": "code",
      "source": [
        "#importar csv\n",
        "dados = pd.read_csv('dados_1997_2011_paises_csv.csv',\n",
        "                            sep= ';',\n",
        "                            encoding= 'latin1',\n",
        "                            decimal= ',')\n",
        "dados"
      ],
      "metadata": {
        "id": "mVHHH7LQ80z2"
      },
      "execution_count": null,
      "outputs": []
    },
    {
      "cell_type": "code",
      "source": [
        "type(dados)"
      ],
      "metadata": {
        "id": "muDHopZZF-TS"
      },
      "execution_count": null,
      "outputs": []
    },
    {
      "cell_type": "code",
      "source": [
        "#ver os tipos de dados no csv\n",
        "dados.dtypes"
      ],
      "metadata": {
        "id": "ZAvLp3EEG4Mr"
      },
      "execution_count": null,
      "outputs": []
    },
    {
      "cell_type": "markdown",
      "source": [
        "#Comandos basicos pandas dataframes\n"
      ],
      "metadata": {
        "id": "3hrojq34GuLj"
      }
    },
    {
      "cell_type": "code",
      "source": [
        "#ver numero de linhas especificos na tabela do comeco p baixo\n",
        "dados.head(2)\n",
        "\n",
        "#ver numero de linhas especificos na tabela do final p cima\n",
        "dados.tail(2)"
      ],
      "metadata": {
        "id": "DeRT1B80HM_7"
      },
      "execution_count": null,
      "outputs": []
    },
    {
      "cell_type": "code",
      "source": [
        "dados.tail(10)"
      ],
      "metadata": {
        "id": "FlGKNkDFzY58"
      },
      "execution_count": null,
      "outputs": []
    },
    {
      "cell_type": "code",
      "source": [
        "#nome das colunas\n",
        "dados.columns"
      ],
      "metadata": {
        "id": "y2tlXWLKHfin"
      },
      "execution_count": null,
      "outputs": []
    },
    {
      "cell_type": "code",
      "source": [
        "#trocar nome da coluna\n",
        "dados.rename(columns = {'populacao':'pop', 'globalizacao_indice':'glob_indice'}).columns"
      ],
      "metadata": {
        "id": "YqtxFbc8HkkT"
      },
      "execution_count": null,
      "outputs": []
    },
    {
      "cell_type": "markdown",
      "source": [
        "#ASSOCIAR TROCA DE NOMES EM COLUNAS FAZ A TABELA ANTIGA SUMIR, ENTAO NAO SALVAR COM O MESMO NOME"
      ],
      "metadata": {
        "id": "HSpwGCytIZts"
      }
    },
    {
      "cell_type": "code",
      "source": [
        "#associando a  troca de nomes a um objeto diferente para nao perder a tabela antiga\n",
        "dados2 = dados.rename(columns = {'populacao':'pop', 'globalizacao_indice':'glob_indice'})\n",
        "\n",
        "#ver as colunas de algo específico\n",
        "dados2.columns"
      ],
      "metadata": {
        "id": "FqYw0QwjIMvS"
      },
      "execution_count": null,
      "outputs": []
    },
    {
      "cell_type": "code",
      "source": [
        "#filtrar 1 coluna\n",
        "\n",
        "dados2['pais']"
      ],
      "metadata": {
        "id": "HCHf2UaLJMYw"
      },
      "execution_count": null,
      "outputs": []
    },
    {
      "cell_type": "code",
      "source": [
        "#filtrar mais de 1 coluna - forma 1, head para ver um numero especifico de colunas de cima para baixo\n",
        "dados2[['pais', 'ano', 'idh']].head(90)"
      ],
      "metadata": {
        "id": "Aqvf7bxjJTQu"
      },
      "execution_count": null,
      "outputs": []
    },
    {
      "cell_type": "code",
      "source": [
        "#filtrar mais de 1 coluna - forma 2, tail para ver um numero especifico de colunas de baixo para cima\n",
        "cols = ['ano', 'pais', 'idh']\n",
        "\n",
        "dados2[cols].tail(10)"
      ],
      "metadata": {
        "id": "nJaDluoEJsVy"
      },
      "execution_count": null,
      "outputs": []
    },
    {
      "cell_type": "code",
      "source": [
        "#ver uma ou mais colunas especificas\n",
        "dados.iloc[50:51]\n",
        "\n",
        "#comecar de um numero especifico e ver de oito em oito, nesse caso\n",
        "dados.iloc[4::8]"
      ],
      "metadata": {
        "id": "5yIfvuXbKI1Y"
      },
      "execution_count": null,
      "outputs": []
    },
    {
      "cell_type": "code",
      "source": [
        "#ver coluna especifica de um indice especifico\n",
        "\n",
        "dados.iloc[4:5, 5:6]"
      ],
      "metadata": {
        "id": "C_0J1mitK_m2"
      },
      "execution_count": null,
      "outputs": []
    },
    {
      "cell_type": "code",
      "source": [
        "#criar modificar uma coluna, como por ex multiplicar algum valor ou sla\n",
        "dados2['idh_mult'] = dados2['idh'] * 100\n",
        "\n",
        "dados2[['idh_mult', 'idh']]\n"
      ],
      "metadata": {
        "id": "48GZj3puLs2f"
      },
      "execution_count": null,
      "outputs": []
    },
    {
      "cell_type": "code",
      "source": [
        "#modificar uma coluna, como por ex multiplicar algum valor ou sla tambem funciona com o objeto la0\n",
        "\n",
        "dados2[cols] * 100"
      ],
      "metadata": {
        "id": "KzMwkUHyMuP5"
      },
      "execution_count": null,
      "outputs": []
    },
    {
      "cell_type": "code",
      "source": [
        "#ver nova coluna ao lado de uma ou mais colunas especificas\n",
        "dados2[['idh_mult', 'pais']]\n",
        "\n",
        "dados2.head(2)"
      ],
      "metadata": {
        "id": "0upKXmTuM2jG"
      },
      "execution_count": null,
      "outputs": []
    },
    {
      "cell_type": "code",
      "source": [
        "#como aplicar umas mesma funcao em mais de uma coluna\n",
        "dados2[['pop', 'pib']].apply(lambda x: np.log(x)).head(2)\n"
      ],
      "metadata": {
        "id": "BNdEb-0bNTxf"
      },
      "execution_count": null,
      "outputs": []
    },
    {
      "cell_type": "code",
      "source": [
        "#atribuindo a um objeto\n",
        "dados2[['log_pop','log_pib']] = dados2[['pop', 'pib']].apply(lambda x:np.log(x))\n",
        "dados2.head(2)"
      ],
      "metadata": {
        "id": "1wb5iaSZOzF5"
      },
      "execution_count": null,
      "outputs": []
    },
    {
      "cell_type": "markdown",
      "source": [
        "#filtros\n"
      ],
      "metadata": {
        "id": "hYcqqMgcN0uF"
      }
    },
    {
      "cell_type": "code",
      "source": [
        "#filtrar coluna texto - forma 1\n",
        "dados2[dados2['pais'] == 'Brasil']"
      ],
      "metadata": {
        "id": "zHRbDu1BPPn0"
      },
      "execution_count": null,
      "outputs": []
    },
    {
      "cell_type": "code",
      "source": [
        "#listando os indices de uma coluna especifica, pra saber como se escreve, quais sao sla\n",
        "#quantos paises existem no data set\n",
        "dados2['pais'].unique()"
      ],
      "metadata": {
        "id": "RC4nxjL7PnYN"
      },
      "execution_count": null,
      "outputs": []
    },
    {
      "cell_type": "code",
      "source": [
        "#quantos indices tem numa determinada coluna\n",
        "#quantos paises diferentes\n",
        "len(dados2['pais'].unique())"
      ],
      "metadata": {
        "id": "exvSK2BAQHNn"
      },
      "execution_count": null,
      "outputs": []
    },
    {
      "cell_type": "code",
      "source": [
        "#ver determinados indices que contenham certas strings\n",
        "dados2[dados2['pais'].str.contains('Br')]\n",
        "\n",
        "dados2[dados2['pais'].str.contains('A')]"
      ],
      "metadata": {
        "id": "SelmTAfsQzan"
      },
      "execution_count": null,
      "outputs": []
    },
    {
      "cell_type": "code",
      "source": [
        "#filtrar numeros especificos em colunas\n",
        "dados2[dados2['idh'] > 0.9]\n",
        "\n",
        "#filtrar numeros especificos em colunas para ver extamente um numero\n",
        "dados2[dados2['idh'] == 0.6]"
      ],
      "metadata": {
        "id": "kTEDRtkXRNM2"
      },
      "execution_count": null,
      "outputs": []
    },
    {
      "cell_type": "code",
      "source": [
        "#filtrar lista de valores\n",
        "lista_paises = ['Brasil', 'Alemanha', 'China']\n",
        "\n",
        "dados2[dados['pais'].isin(lista_paises)]"
      ],
      "metadata": {
        "id": "vc9L26m_R0lU"
      },
      "execution_count": null,
      "outputs": []
    },
    {
      "cell_type": "code",
      "source": [
        "#filtrar lista excluindo alguns indices(excluindo da filtragem, nao permanentemente)\n",
        "dados2[~dados['pais'].isin(lista_paises)]"
      ],
      "metadata": {
        "id": "PJA_CcnISS9E"
      },
      "execution_count": null,
      "outputs": []
    },
    {
      "cell_type": "code",
      "source": [
        "#filtrar lista excluindo alguns indices(excluindo da filtragem, nao permanentemente)\n",
        "#ver colunas especificas\n",
        "dados2[~dados['pais'].isin(lista_paises)][['pais', 'idh']]\n",
        "\n",
        "dados2[dados['pais'].isin(lista_paises)][['pais', 'pop']]"
      ],
      "metadata": {
        "id": "3U73YmQzS2vK"
      },
      "execution_count": null,
      "outputs": []
    },
    {
      "cell_type": "code",
      "source": [
        "#filtrar mais de uma coluna, sempre que quiser add mais um parametro, colocar & ()\n",
        "dados2[(dados2['pais'].isin(lista_paises)) & (dados2['ano'] >= 2007)]\n"
      ],
      "metadata": {
        "id": "1Nc3eLNSTNKm"
      },
      "execution_count": null,
      "outputs": []
    },
    {
      "cell_type": "code",
      "source": [
        "#ordenar valores de forma crescente\n",
        "dados2.sort_values('idh', ascending = True)\n",
        "\n",
        "#ordenar valores de forma decrescente\n",
        "dados2.sort_values('idh', ascending = False)\n",
        "\n",
        "#ordenar valores de forma decrescente, ver um especifico, de cima para baixo,\n",
        "#de baixo para cima etc fuça ai carai\n",
        "dados2.sort_values('idh', ascending = True).iloc[4:5] #um especifico\n",
        "dados2.sort_values('idh', ascending = True).tail(3) #de baixo pra cima\n",
        "dados2.sort_values('idh', ascending = True).head(3) #cima pra baixo"
      ],
      "metadata": {
        "id": "1H5_RdhfUKfc"
      },
      "execution_count": null,
      "outputs": []
    },
    {
      "cell_type": "markdown",
      "source": [
        "#Agregar valores"
      ],
      "metadata": {
        "id": "pKdCVhmtVOSW"
      }
    },
    {
      "cell_type": "code",
      "source": [
        "#forma direta\n",
        "#soma da população\n",
        "dados2['pop'].sum()"
      ],
      "metadata": {
        "id": "nFUFTS4bVSVa"
      },
      "execution_count": null,
      "outputs": []
    },
    {
      "cell_type": "code",
      "source": [
        "#agregar por pais\n",
        "#media do idh dos paises #pra ver a mediana é median\n",
        "dados2.groupby('pais')['idh'].mean()"
      ],
      "metadata": {
        "id": "RMRvoLQTVYND"
      },
      "execution_count": null,
      "outputs": []
    },
    {
      "cell_type": "code",
      "source": [
        "#media da população\n",
        "dados2.groupby('pais')['pop'].mean()"
      ],
      "metadata": {
        "id": "bVEEbzDqVpNr"
      },
      "execution_count": null,
      "outputs": []
    },
    {
      "cell_type": "code",
      "source": [
        "#agregar colunas diferentes\n",
        "\n",
        "#aq faz uma funcao numa ou mais colunas e agrega a outra\n",
        "\n",
        "#nesse caso eu fiz a soma das populações dos diferentes anos\n",
        "#e a media dos idh dos paises em diferentes anos e atribui a coluna de paises\n",
        "dados2.groupby('pais') \\\n",
        "      .agg(total_pop = pd.NamedAgg('pop', 'sum'),\n",
        "           media_idh = pd.NamedAgg('idh', 'mean'))"
      ],
      "metadata": {
        "id": "-DmFKiP2V1oT"
      },
      "execution_count": null,
      "outputs": []
    },
    {
      "cell_type": "markdown",
      "source": [
        "#Graficos\n",
        "- grafico de linhas"
      ],
      "metadata": {
        "id": "poFKSPe9W8zE"
      }
    },
    {
      "cell_type": "code",
      "source": [
        "#grafico de linhas\n",
        "dados_brasil = dados2[dados2['pais'] == 'Brasil']\n",
        "\n",
        "#grafico referent ao idh durante os anos\n",
        "plt.plot(dados_brasil['ano'], dados_brasil['idh'])"
      ],
      "metadata": {
        "id": "2Mei-JQuXA2C",
        "colab": {
          "base_uri": "https://localhost:8080/",
          "height": 282
        },
        "outputId": "4dd664a3-fc69-4afb-f22a-8851fadd3117"
      },
      "execution_count": null,
      "outputs": [
        {
          "output_type": "execute_result",
          "data": {
            "text/plain": [
              "[<matplotlib.lines.Line2D at 0x7fb88ea5cca0>]"
            ]
          },
          "metadata": {},
          "execution_count": 17
        },
        {
          "output_type": "display_data",
          "data": {
            "text/plain": [
              "<Figure size 432x288 with 1 Axes>"
            ],
            "image/png": "[encoded data removed]"
          },
          "metadata": {
            "needs_background": "light"
          }
        }
      ]
    },
    {
      "cell_type": "markdown",
      "source": [
        "#Grafico de barras"
      ],
      "metadata": {
        "id": "pttGiSxLYCzE"
      }
    },
    {
      "cell_type": "code",
      "source": [
        "#grafico referent ao idh durante os anos\n",
        "plt.bar(dados_brasil['ano'], dados_brasil['idh'])"
      ],
      "metadata": {
        "colab": {
          "base_uri": "https://localhost:8080/",
          "height": 282
        },
        "id": "k54i_CFVYFO0",
        "outputId": "63454a66-6997-4fae-d65f-533cc0584c8b"
      },
      "execution_count": null,
      "outputs": [
        {
          "output_type": "execute_result",
          "data": {
            "text/plain": [
              "<BarContainer object of 15 artists>"
            ]
          },
          "metadata": {},
          "execution_count": 124
        },
        {
          "output_type": "display_data",
          "data": {
            "text/plain": [
              "<Figure size 432x288 with 1 Axes>"
            ],
            "image/png": "[encoded data removed]"
          },
          "metadata": {
            "needs_background": "light"
          }
        }
      ]
    }
  ]
}
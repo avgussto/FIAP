{
  "nbformat": 4,
  "nbformat_minor": 0,
  "metadata": {
    "colab": {
      "provenance": []
    },
    "kernelspec": {
      "name": "python3",
      "display_name": "Python 3"
    },
    "language_info": {
      "name": "python"
    }
  },
  "cells": [
    {
      "cell_type": "code",
      "execution_count": null,
      "metadata": {
        "id": "yZnsZzqjpgQv"
      },
      "outputs": [],
      "source": [
        "import csv\n",
        "\n",
        "documento = ['CPF', 'CNPJ']\n",
        "solicitantes = []\n",
        "\n",
        "def solicitar_informacoes():\n",
        "    tipo_documento = str(input(\"O documento é CPF ou CNPJ? \")).upper()\n",
        "\n",
        "    while tipo_documento not in documento:\n",
        "        print(\"Tipo de documento inválido. Por favor, escolha entre CPF e CNPJ.\")\n",
        "        tipo_documento = str(input(\"O documento é CPF ou CNPJ? \")).upper()\n",
        "\n",
        "    num_documento = input(\"Digite o número do documento (somente números): \")\n",
        "\n",
        "    while not num_documento.isdigit():\n",
        "        print(\"Digite somente números para o número do documento.\")\n",
        "        num_documento = input(\"Digite o número do documento (somente números): \")\n",
        "\n",
        "    num_documento = int(num_documento)\n",
        "\n",
        "    tipo_garantia = input(\"Qual será a garantia usada para o empréstimo? \")\n",
        "    valor_garantia = float(input(\"Digite o valor da garantia: \"))\n",
        "\n",
        "    return {'tipo_documento': tipo_documento, 'num_documento': num_documento, 'tipo_garantia': tipo_garantia, 'valor_garantia': valor_garantia}\n",
        "\n",
        "for i in range(5):\n",
        "    solicitante = solicitar_informacoes()\n",
        "    solicitantes.append(solicitante)\n",
        "\n",
        "with open('solicitantes.csv', 'w', newline='') as file:\n",
        "    fieldnames = ['tipo_documento', 'num_documento', 'tipo_garantia', 'valor_garantia']\n",
        "    writer = csv.DictWriter(file, fieldnames=fieldnames)\n",
        "    writer.writeheader()\n",
        "    for solicitante in solicitantes:\n",
        "        writer.writerow(solicitante)"
      ]
    }
  ]
}